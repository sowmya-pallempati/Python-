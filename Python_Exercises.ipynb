{
 "cells": [
  {
   "cell_type": "code",
   "execution_count": 3,
   "id": "bb88b6f7",
   "metadata": {},
   "outputs": [
    {
     "name": "stdout",
     "output_type": "stream",
     "text": [
      "2\n",
      "9\n"
     ]
    }
   ],
   "source": [
    "#Numbers\n",
    "\n",
    "print(2+7*4%2)\n",
    "\n",
    "print(2+7%(2*4))\n",
    "    "
   ]
  },
  {
   "cell_type": "code",
   "execution_count": 7,
   "id": "dc7512e7",
   "metadata": {},
   "outputs": [
    {
     "name": "stdout",
     "output_type": "stream",
     "text": [
      "20\n"
     ]
    },
    {
     "data": {
      "text/plain": [
       "40"
      ]
     },
     "execution_count": 7,
     "metadata": {},
     "output_type": "execute_result"
    }
   ],
   "source": [
    "a = 20\n",
    "print(a)\n",
    "a = a+a\n",
    "a\n",
    "\n",
    "\n",
    "\n"
   ]
  },
  {
   "cell_type": "code",
   "execution_count": 16,
   "id": "8eaec55f",
   "metadata": {},
   "outputs": [
    {
     "name": "stdout",
     "output_type": "stream",
     "text": [
      "Hi everyone\n",
      "learning python\n",
      "hey, whatsup\n",
      "            how you doin\n",
      "            Is everthing ok?\n",
      "6\n",
      "Hi everyone Im sowmya and my num is 10\n",
      "True\n",
      "you is present in given string\n"
     ]
    }
   ],
   "source": [
    "#strings\n",
    "\n",
    "print('Hi everyone')\n",
    "print(\"learning python\")\n",
    "'hello'\n",
    "\n",
    "#Multiline strings\n",
    "\n",
    "random = \"\"\"hey, whatsup\n",
    "            how you doin\n",
    "            Is everthing ok?\"\"\"\n",
    "\n",
    "print(random)\n",
    "\n",
    "num = 10\n",
    "name = 'sowmya'\n",
    "\n",
    "print(len(name))\n",
    "print('Hi everyone Im {} and my num is {}'.format(name, num))\n",
    "\n",
    "\n",
    "#checking is a string is present\n",
    "#returns true if present\n",
    "print(\"you\" in random)\n",
    "\n",
    "if \"you\" in random:\n",
    "    print(\"you is present in given string\")\n"
   ]
  },
  {
   "cell_type": "code",
   "execution_count": 26,
   "id": "9d8dff7f",
   "metadata": {},
   "outputs": [
    {
     "name": "stdout",
     "output_type": "stream",
     "text": [
      "W\n",
      "SOWMYA\n",
      "SOW\n",
      "SWY\n",
      "OWMY\n"
     ]
    }
   ],
   "source": [
    "#slicing\n",
    "#[start, end, step size]\n",
    "\n",
    "A = \"SOWMYA\"\n",
    "print(A[2])\n",
    "\n",
    "print(A[0:])\n",
    "\n",
    "#doesnot include 3rd index\n",
    "\n",
    "print(A[ :3])\n",
    "\n",
    "print(A[0: :2])\n",
    "\n",
    "#negative slicing\n",
    "\n",
    "print(A[-5:-1])"
   ]
  },
  {
   "cell_type": "code",
   "execution_count": 33,
   "id": "4f1602a3",
   "metadata": {},
   "outputs": [
    {
     "name": "stdout",
     "output_type": "stream",
     "text": [
      "YOSHITHA\n",
      " hey you\n",
      " HEY YOU\n",
      "HEY YOU\n",
      "Toshitha\n",
      "[' H', 'Y, YOU']\n"
     ]
    }
   ],
   "source": [
    "b  = \"yoshitha\"\n",
    "\n",
    "print(b.upper())\n",
    "\n",
    "c= \" HEY YOU\"\n",
    "\n",
    "print(c. lower())\n",
    "\n",
    "#strip removes whitespaces from start or end\n",
    "print(c)\n",
    "print(c.strip())\n",
    "\n",
    "#replace string\n",
    "replace = b.replace('y','T')\n",
    "print(replace)\n",
    "\n",
    "# split string\n",
    "y = \" HEY, YOU\"\n",
    "\n",
    "print(y.split('E'))\n",
    "\n"
   ]
  },
  {
   "cell_type": "code",
   "execution_count": 56,
   "id": "a8576065",
   "metadata": {},
   "outputs": [
    {
     "name": "stdout",
     "output_type": "stream",
     "text": [
      "['apple', 'banana', 7, 9.0]\n",
      "<class 'list'>\n",
      "4\n",
      "9.0\n",
      "7\n",
      "['apple', 'orange', 'watermelon', 'kiwi', 9.0]\n",
      "['apple', 'orange', 'watermelon', 'kiwi', 9.0, 'strawberry']\n",
      "['app', 'bpp', 'cpp', 'dpp']\n"
     ]
    }
   ],
   "source": [
    "#Lists\n",
    "\n",
    "#mutable, allows duplicates, ordered, contains diff data types\n",
    "\n",
    "mylist = [\"apple\",\"banana\", 7, 9.0]\n",
    "mylist2 = [\"sowmya\",\"karnati\",\"tharun\",\"yosh\"]\n",
    "print(mylist)\n",
    "print(type(mylist))\n",
    "print(len(mylist))\n",
    "print(mylist[-1])\n",
    "print(mylist[2])\n",
    "\n",
    "#mutable\n",
    "mylist[1:3]=[\"orange\", \"watermelon\"]\n",
    "mylist\n",
    "\n",
    "#insert\n",
    "\n",
    "mylist.insert(3, \"kiwi\")\n",
    "print(mylist)\n",
    "\n",
    "#adding items to list (append)\n",
    "\n",
    "mylist.append(\"strawberry\")\n",
    "print(mylist)\n",
    "\n",
    "#removing items from list\n",
    "\n",
    "#remove\n",
    "\n",
    "mylist.remove(9.0)\n",
    "\n",
    "#pop by giving index, del does same the operation\n",
    "\n",
    "mylist.pop(2)\n",
    "#mylist\n",
    "\n",
    "\n",
    "#clear\n",
    "mylist.clear()\n",
    "mylist\n",
    "\n",
    "#extending list [ doesnt work for mylist and mylist2]\n",
    "\n",
    "a = [\"app\",\"bpp\"]\n",
    "b = [\"cpp\",\"dpp\"]\n",
    "\n",
    "a.extend(b)\n",
    "print(a)\n",
    "\n",
    "\n",
    "\n",
    "\n",
    "\n"
   ]
  },
  {
   "cell_type": "code",
   "execution_count": 98,
   "id": "2c71d829",
   "metadata": {},
   "outputs": [
    {
     "name": "stdout",
     "output_type": "stream",
     "text": [
      "1\n",
      "4\n",
      "7.0\n",
      "67\n",
      "printing by index 1\n",
      "printing by index 4\n",
      "printing by index 7.0\n",
      "printing by index 67\n",
      "test ['dpp', 'cpp']\n",
      "['app', 'cpp', 'dpp']\n",
      "[67, 7.0, 4, 1]\n"
     ]
    }
   ],
   "source": [
    "#Loops through lists\n",
    "\n",
    "l1 = [1,4,7.0,67]\n",
    "\n",
    "for i in l1:\n",
    "    print(i)\n",
    "    \n",
    "for i in range(len(l1)):\n",
    "    print(\"printing by index\", l1[i])\n",
    "    \n",
    "    \n",
    "l2= [\"app\",\"dpp\", \"cpp\"]\n",
    "\n",
    "\n",
    "for i in l2:\n",
    "    if i == \"bpp\":\n",
    "        print(\"mapped\")\n",
    "        \n",
    "#sorting list\n",
    "#ascending, alphabetical\n",
    "\n",
    "l1.sort()\n",
    "l2.sort()\n",
    "print(l2)\n",
    "l1.reverse()\n",
    "print(l1)\n",
    "        \n",
    "\n"
   ]
  },
  {
   "cell_type": "code",
   "execution_count": 103,
   "id": "f169b99e",
   "metadata": {},
   "outputs": [
    {
     "ename": "SyntaxError",
     "evalue": "invalid syntax (2375223616.py, line 9)",
     "output_type": "error",
     "traceback": [
      "\u001b[1;36m  File \u001b[1;32m\"C:\\Users\\Pallempati Sowmya\\AppData\\Local\\Temp\\ipykernel_1940\\2375223616.py\"\u001b[1;36m, line \u001b[1;32m9\u001b[0m\n\u001b[1;33m    newtuple=( , )\u001b[0m\n\u001b[1;37m               ^\u001b[0m\n\u001b[1;31mSyntaxError\u001b[0m\u001b[1;31m:\u001b[0m invalid syntax\n"
     ]
    }
   ],
   "source": [
    "#Tuples\n",
    "#ordered, unmutable(cannot change value), allows duplicates, can contain different data types\n",
    "\n",
    "#written in round brackets\n",
    "\n",
    "mytuple= (\"apple\", 9.25, 9, \"apple\")\n",
    "print(type(mytuple))\n",
    "mytuple\n",
    "newtuple=()\n",
    "\n",
    "if \"apple\" in mytuple:\n",
    "    print(mytuple[-2:])"
   ]
  },
  {
   "cell_type": "code",
   "execution_count": 150,
   "id": "27d70acf",
   "metadata": {},
   "outputs": [
    {
     "ename": "AttributeError",
     "evalue": "'tuple' object has no attribute 'add'",
     "output_type": "error",
     "traceback": [
      "\u001b[1;31m---------------------------------------------------------------------------\u001b[0m",
      "\u001b[1;31mAttributeError\u001b[0m                            Traceback (most recent call last)",
      "\u001b[1;32m~\\AppData\\Local\\Temp\\ipykernel_1940\\1130225381.py\u001b[0m in \u001b[0;36m<module>\u001b[1;34m\u001b[0m\n\u001b[0;32m      2\u001b[0m \u001b[0mmytuple\u001b[0m\u001b[1;33m=\u001b[0m \u001b[1;33m(\u001b[0m\u001b[1;34m\"apple\"\u001b[0m\u001b[1;33m,\u001b[0m \u001b[1;36m9.25\u001b[0m\u001b[1;33m,\u001b[0m \u001b[1;36m9\u001b[0m\u001b[1;33m,\u001b[0m \u001b[1;34m\"apple\"\u001b[0m\u001b[1;33m)\u001b[0m\u001b[1;33m\u001b[0m\u001b[1;33m\u001b[0m\u001b[0m\n\u001b[0;32m      3\u001b[0m \u001b[1;33m\u001b[0m\u001b[0m\n\u001b[1;32m----> 4\u001b[1;33m \u001b[0mmytuple\u001b[0m\u001b[1;33m.\u001b[0m\u001b[0madd\u001b[0m\u001b[1;33m(\u001b[0m\u001b[1;34m\"strawberry\"\u001b[0m\u001b[1;33m)\u001b[0m\u001b[1;33m\u001b[0m\u001b[1;33m\u001b[0m\u001b[0m\n\u001b[0m\u001b[0;32m      5\u001b[0m \u001b[0mprint\u001b[0m\u001b[1;33m(\u001b[0m\u001b[1;34m\"testing add funcation\"\u001b[0m\u001b[1;33m,\u001b[0m \u001b[0mmytuple\u001b[0m\u001b[1;33m)\u001b[0m\u001b[1;33m\u001b[0m\u001b[1;33m\u001b[0m\u001b[0m\n\u001b[0;32m      6\u001b[0m \u001b[1;33m\u001b[0m\u001b[0m\n",
      "\u001b[1;31mAttributeError\u001b[0m: 'tuple' object has no attribute 'add'"
     ]
    }
   ],
   "source": [
    "#immutable\n",
    "mytuple= (\"apple\", 9.25, 9, \"apple\")\n",
    "\n",
    "\n",
    "#mytuple(1)= \"banana\"\n",
    "#mytuple #error, since tuple is immutable we cannot change values, however we can convert it into list and all.\n",
    "\n",
    "tl=list(mytuple)\n",
    "print(type(tl))\n",
    "\n",
    "tl[1]= \"banana\" #workaround\n",
    "\n",
    "mytuple= tuple(tl)\n",
    "print(mytuple)\n",
    "\n",
    "#Note: we cannot use append or extend functions in a tuple since immutable, same for deleting/removing items\n",
    "\n",
    "tl = list(mytuple)\n",
    "\n",
    "tl.append(\"orange\") #workaround\n",
    "\n",
    "mylist = tuple(tl)\n",
    "\n",
    "print(mylist)\n",
    "\n",
    "#we can add tuple to a tuple using '+'\n",
    "\n",
    "tuple2 = (\"hey\",\"hello\")\n",
    "\n",
    "x = mytuple+tuple2\n",
    "print(x)\n",
    "\n",
    "#index method\n",
    "print(tuple2.index(\"hello\"))\n",
    "\n",
    "list2 = [\"ap\",\"bp\",\"cp\"]\n",
    "print(list2.index(\"cp\"))\n"
   ]
  },
  {
   "cell_type": "code",
   "execution_count": 135,
   "id": "9e746af9",
   "metadata": {},
   "outputs": [
    {
     "name": "stdout",
     "output_type": "stream",
     "text": [
      "97\n",
      "['apple', 'banana']\n",
      "apple\n",
      "hey its banana\n",
      "banana\n",
      "kiwi\n",
      "kiwi\n"
     ]
    }
   ],
   "source": [
    "#packing and unpacking a tuple\n",
    "#packing : generally assigning values to a tuple\n",
    "#unpacking : assigning values to a variable\n",
    "\n",
    "scores = (\"98\",\"97\",\"100\") #packing\n",
    "\n",
    "#unpacking\n",
    "\n",
    "(sow,yosh,karnati) = scores\n",
    "\n",
    "print(yosh)\n",
    "\n",
    "\n",
    "#If the number of variables is less than the number of values, you can add an * to the variable name\n",
    "\n",
    "fruits = (\"apple\",\"banana\",\"kiwi\")\n",
    "\n",
    "(*juice, shake) = fruits\n",
    "\n",
    "print(juice)\n",
    "\n",
    "\n",
    "#loops\n",
    "i=0\n",
    "while i < len(fruits):\n",
    "    if 'b' in fruits[i]:\n",
    "        print(\"hey its banana\")\n",
    "    print(fruits[i])\n",
    "    i=i+1\n",
    "    \n",
    "    \n",
    "for X in fruits:\n",
    "    if 'k' in  X:\n",
    "        print(\"kiwi\")"
   ]
  },
  {
   "cell_type": "code",
   "execution_count": 157,
   "id": "b2827679",
   "metadata": {},
   "outputs": [
    {
     "name": "stdout",
     "output_type": "stream",
     "text": [
      "<class 'set'>\n",
      "{8.3, 'apple', 6, 'test'}\n",
      "updated set {'apple', 6, 8.3, 'orange', 'test'}\n",
      "concatinated two sets {'apple', 6, 8.3, 'orange', 'hey', 'test', 'hi'}\n",
      "apple\n",
      "6\n",
      "8.3\n",
      "orange\n",
      "hey\n",
      "test\n",
      "hi\n",
      "matched\n"
     ]
    }
   ],
   "source": [
    "#sets\n",
    "#unordered, immutable, no duplicates, cannot be refered by index, #different data types\n",
    "\n",
    "myset = {\"apple\",\"test\", 8.30, 6}\n",
    "print(type(myset))\n",
    "print(myset) #displays values in random order not in given order\n",
    "\n",
    "#print(myset[2]) #error since we cannot refer it by index\n",
    "\n",
    "\n",
    "#set has add method but tuple doesnot\n",
    "myset.add(\"orange\")\n",
    "print(\"updated set\", myset)\n",
    "\n",
    "#To add 2 sets\n",
    "\n",
    "myset2 = {\"hi\",\"hey\"}\n",
    "\n",
    "#addedset= myset+myset2 # doesnot work in sets but works in tuple or list\n",
    "#NOTE : UNION OR UPDATE METHOD WILL EXCLUDE DUPLICATE ITEMS IF ANY\n",
    "myset.update(myset2)\n",
    "print(\"concatinated two sets\",myset)\n",
    "\n",
    "#looping\n",
    "\n",
    "for x in myset:\n",
    "    #if 6 in x:  === error\n",
    "        #print(\"matched\")\n",
    "    print(x)\n",
    "    \n",
    "#for i in range(len(myset)): # error since sets are unindexed\n",
    "    #print(myset[i])\n",
    "    \n",
    "if 8.30 in myset:\n",
    "    print(\"matched\")"
   ]
  },
  {
   "cell_type": "code",
   "execution_count": 163,
   "id": "aad64b6c",
   "metadata": {},
   "outputs": [
    {
     "name": "stdout",
     "output_type": "stream",
     "text": [
      "union {'banana', 'microsoft', 'google', 'apple', 'cherry'}\n",
      "intersection {'apple'}\n"
     ]
    }
   ],
   "source": [
    "#joining sets\n",
    "\n",
    "\n",
    "\n",
    "x = {\"apple\", \"banana\", \"cherry\"}\n",
    "y = {\"google\", \"microsoft\", \"apple\"}\n",
    "\n",
    "unionset = x.union(y)\n",
    "print(\"union\", unionset) #just like update\n",
    "x.intersection_update(y) #this method return only duplicate items/ common in both sets\n",
    "print(\"intersection\", x)\n",
    "\n",
    "\n"
   ]
  },
  {
   "cell_type": "code",
   "execution_count": 181,
   "id": "7b3afde7",
   "metadata": {},
   "outputs": [
    {
     "name": "stdout",
     "output_type": "stream",
     "text": [
      "{'fruit': 'Mango', 'number': 19, 'icecream': ['oreo', 'vanilla', 'butterscotch']}\n",
      "['oreo', 'vanilla', 'butterscotch']\n",
      "sowmya\n",
      "using get method :  sowmya\n",
      "updated dict after changing number {'fruit': 'Mango', 'number': 6, 'icecream': ['oreo', 'vanilla', 'butterscotch']}\n",
      "<class 'dict_items'>\n",
      "testing item method dict_items([('fruit', 'Mango'), ('number', 6), ('icecream', ['oreo', 'vanilla', 'butterscotch'])])\n",
      "values are  dict_values(['Mango', 6, ['oreo', 'vanilla', 'butterscotch']])\n"
     ]
    }
   ],
   "source": [
    "#dictionaries\n",
    "\n",
    "#stores values in key value pairs\n",
    "#ordered, mutable, no duplicates[cannot have two values with same key], any data type\n",
    "\n",
    "mydict = {\n",
    "    \"fruit\" :\"Mango\",\n",
    "    \"number\" : 19,\n",
    "    \"icecream\" : [\"oreo\", \"vanilla\", \"butterscotch\"]\n",
    "}\n",
    "\n",
    "print(mydict)\n",
    "\n",
    "print(mydict[\"icecream\"])\n",
    "\n",
    "\n",
    "newdict = dict(name= \"sowmya\", age= \"23\", Education=\"Masters\")\n",
    "\n",
    "print(newdict[\"name\"])\n",
    "\n",
    "#alternative using get method\n",
    "\n",
    "x= newdict.get(\"name\")\n",
    "print(\"using get method : \", x)\n",
    "\n",
    "mydict[\"number\"]= 6\n",
    "\n",
    "print(\"updated dict after changing number\" , mydict)\n",
    "\n",
    "\n",
    "#items method returns each key value pair as a tuple\n",
    "\n",
    "y = mydict.items()\n",
    "print(type(y))#dictionary\n",
    "print(\"testing item method\", y)\n",
    "\n",
    "#print only values not keys\n",
    "z= mydict.values()\n",
    "print(\"values are \", z)\n",
    "\n",
    "\n"
   ]
  },
  {
   "cell_type": "code",
   "execution_count": 4,
   "id": "a921b26a",
   "metadata": {},
   "outputs": [
    {
     "name": "stdout",
     "output_type": "stream",
     "text": [
      "name\n",
      "age\n",
      "Education\n",
      "gives only values sowmya\n",
      "gives only values 23\n",
      "gives only values Masters\n",
      "name sowmya\n",
      "age 23\n",
      "Education Masters\n"
     ]
    }
   ],
   "source": [
    "#looping in dictionaries\n",
    "\n",
    "newdict = dict(name= \"sowmya\", age= \"23\", Education=\"Masters\")\n",
    "\n",
    "for x in newdict:  \n",
    "    print(x)  #prints just keys\n",
    "    \n",
    "\n",
    "for x in newdict.values():\n",
    "    print(\"gives only values\" , x)\n",
    "    \n",
    "#prints both keys and values \n",
    "    \n",
    "for x, y in newdict.items():\n",
    "    print(x,y)\n",
    "    \n",
    "    "
   ]
  },
  {
   "cell_type": "code",
   "execution_count": 1,
   "id": "ba36701a",
   "metadata": {},
   "outputs": [
    {
     "name": "stdout",
     "output_type": "stream",
     "text": [
      "b\n",
      "a\n",
      "n\n",
      "a\n",
      "n\n",
      "a\n"
     ]
    }
   ],
   "source": [
    "#looping through characters\n",
    "\n",
    "for x in \"banana\":\n",
    "  print(x)"
   ]
  },
  {
   "cell_type": "code",
   "execution_count": 16,
   "id": "82553cd5",
   "metadata": {},
   "outputs": [
    {
     "name": "stdout",
     "output_type": "stream",
     "text": [
      "practise\n",
      "50\n",
      "my first fav fruit is melon\n",
      "choosen schools and default Maryland\n",
      "choosen schools and default UCONN\n"
     ]
    },
    {
     "data": {
      "text/plain": [
       "120"
      ]
     },
     "execution_count": 16,
     "metadata": {},
     "output_type": "execute_result"
    }
   ],
   "source": [
    "#Python Functions\n",
    "#function is defined using def keyword\n",
    "\n",
    "def my_func():\n",
    "    print(\"practise\")\n",
    "    \n",
    "#calling a function by using the function name followed by parenthesis \n",
    "\n",
    "my_func()\n",
    "\n",
    "#passing arguments\n",
    "\n",
    "def add(a,b):  #here a,b variables are called parameters as they are passed in function definition\n",
    "    print(a+b)\n",
    "    \n",
    "add(20,30) #20,30 values are called arguments as we are passing in function call\n",
    "\n",
    "\n",
    "# use *args if we are not sure on passing no of parameters\n",
    "\n",
    "def fav_fruit(*fruits):\n",
    "    print(\"my first fav fruit is\", fruits[1])\n",
    "\n",
    "fav_fruit(\"apple\",\"melon\",\"mango\",\"strawberry\")\n",
    "\n",
    "\n",
    "#default argument\n",
    "\n",
    "def test(school=\"UCONN\"):\n",
    "    print(\"choosen schools and default\",school)\n",
    "    \n",
    "test(\"Maryland\")\n",
    "test()\n",
    "\n",
    "\n",
    "#recursion: function calling itself\n",
    "\n",
    "def fact(a):\n",
    "    if(a==1):\n",
    "        return 1\n",
    "    else:\n",
    "        return a*fact(a-1)\n",
    "fact(5)\n",
    "\n"
   ]
  },
  {
   "cell_type": "code",
   "execution_count": 26,
   "id": "26851b1d",
   "metadata": {},
   "outputs": [
    {
     "name": "stdout",
     "output_type": "stream",
     "text": [
      "hey\n",
      "hey\n",
      "sou\n"
     ]
    }
   ],
   "source": [
    "#classes and objects\n",
    "\n",
    "#class : object constructor/ blueprint for creating an object\n",
    "\n",
    "#creating a class using \"class\" keyword\n",
    "\n",
    "class testclass():\n",
    "    message = \"hey\"\n",
    "    \n",
    "print(testclass.message)    \n",
    "\n",
    "#creating objects\n",
    "obj1 = testclass()\n",
    "print(obj1.message)\n",
    "\n",
    "\n",
    "#built in __init__ method: always executed when the class is being initiated.\n",
    "\n",
    "class test():\n",
    "    def __init__(self, name, age):\n",
    "        self.name=name\n",
    "        self.age=age\n",
    "        \n",
    "\n",
    "obj2 = test(\"sou\",\"23\")\n",
    "\n",
    "print(obj2.name)\n",
    "\n"
   ]
  },
  {
   "cell_type": "code",
   "execution_count": 1,
   "id": "dbeaffdc",
   "metadata": {},
   "outputs": [
    {
     "name": "stdout",
     "output_type": "stream",
     "text": [
      "checking object method print soumya\n"
     ]
    }
   ],
   "source": [
    "\n",
    "#class methods:\n",
    "\n",
    "#self is the reference to access variables that belong to the class\n",
    "\n",
    "#self can be any name but just it has to be the first variable\n",
    "class test():\n",
    "    def __init__(self, name, age):  #name, age are properties of object obj2 in class test\n",
    "        self.name = name\n",
    "        self.age = age\n",
    "    def methodtest(abc):\n",
    "        print(\"checking object method print\",abc.name )\n",
    "        #print(\"checking object method print age\",abc.age ) #error since age atrribute has been deleted\n",
    "        \n",
    "    \n",
    "obj2 = test(\"sou\",\"23\")\n",
    "obj2.name = \"soumya\"\n",
    "\n",
    "del obj2.age\n",
    "\n",
    "#del obj2\n",
    "        \n",
    "obj2.methodtest()\n",
    "\n",
    "\n",
    "\n",
    "\n",
    "\n"
   ]
  },
  {
   "cell_type": "code",
   "execution_count": 29,
   "id": "40770206",
   "metadata": {},
   "outputs": [
    {
     "name": "stdout",
     "output_type": "stream",
     "text": [
      "I\n",
      "I\n",
      "I\n"
     ]
    }
   ],
   "source": [
    "  def romanToInt(s: str) -> int:\n",
    "        I = 1,\n",
    "        V = 5,\n",
    "        X = 10,\n",
    "        L = 50,\n",
    "        C = 100,\n",
    "        D = 500,\n",
    "        M = 1000,\n",
    "        sum1 =0,\n",
    "        x= 0,\n",
    "        for x in range(len(s)):\n",
    "            print(s[x])\n",
    "            #sum1 = sum1+s[x]\n",
    "            #return sum1\n",
    "        \n",
    "  sum1= romanToInt(\"III\",)"
   ]
  },
  {
   "cell_type": "code",
   "execution_count": 39,
   "id": "7550b6dd",
   "metadata": {},
   "outputs": [
    {
     "name": "stdout",
     "output_type": "stream",
     "text": [
      "fl\n",
      "flo\n"
     ]
    }
   ],
   "source": [
    "strs=[\"flow\",\"flush\",\"flower\"]\n",
    "res=\"\"\n",
    "for i in range(len(strs[0])):\n",
    "    for s in strs:\n",
    "        if s[i]!=strs[0][i]:\n",
    "             print(res)\n",
    "    res+=strs[0][i]\n",
    "\n"
   ]
  },
  {
   "cell_type": "code",
   "execution_count": 3,
   "id": "d85c2d8f",
   "metadata": {},
   "outputs": [
    {
     "name": "stdout",
     "output_type": "stream",
     "text": [
      "['fly', 'me', '', '', 'to', '', '', 'the', 'moon']\n",
      "4\n"
     ]
    }
   ],
   "source": [
    "s = \"   fly me   to   the moon  \"\n",
    "\n",
    "t = s.strip()\n",
    "p = t.split(\" \")\n",
    "t= len(p[-1])\n",
    "print(p)\n",
    "print(t)"
   ]
  },
  {
   "cell_type": "code",
   "execution_count": 24,
   "id": "264ce643",
   "metadata": {},
   "outputs": [
    {
     "name": "stdout",
     "output_type": "stream",
     "text": [
      "amanaplanacanalpanama\n",
      "True\n"
     ]
    }
   ],
   "source": [
    "s = \"A man, a plan, a canal: Panama\"\n",
    "\n",
    "t=s.lower()\n",
    "\n",
    "s = ''.join(filter(str.isalnum, t))\n",
    "print(s)\n",
    "\n",
    "p = list(s)\n",
    "x= p.copy()\n",
    "p.reverse()\n",
    "\n",
    "if p==x:\n",
    "    print(\"True\")\n",
    "    \n",
    "\n",
    "\n",
    "\n",
    "\n",
    "\n",
    "    \n",
    "    \n",
    "    "
   ]
  },
  {
   "cell_type": "code",
   "execution_count": 1,
   "id": "68d0293c",
   "metadata": {},
   "outputs": [
    {
     "name": "stdout",
     "output_type": "stream",
     "text": [
      "True\n"
     ]
    }
   ],
   "source": [
    "s = \"A man, a plan, a canal: Panama\"\n",
    "\n",
    "t=s.lower()\n",
    "new=[]\n",
    "for x in range(len(t)):\n",
    "    if t[x].isalnum():\n",
    "        new.append(t[x])\n",
    "lis = list(new)\n",
    "x = lis.copy()\n",
    "lis.reverse()\n",
    "if lis == x:\n",
    "    print(\"True\")\n",
    "    \n",
    "    \n"
   ]
  },
  {
   "cell_type": "code",
   "execution_count": 10,
   "id": "aaae8ba0",
   "metadata": {},
   "outputs": [
    {
     "name": "stdout",
     "output_type": "stream",
     "text": [
      "['e']\n"
     ]
    }
   ],
   "source": [
    "s=\"abcd\"\n",
    "t=\"abcde\"\n",
    "        \n",
    "slist= list(s)\n",
    "tlist = list(t)\n",
    "for i in slist:\n",
    "    tlist.remove(i)\n",
    "print(tlist)\n",
    "        "
   ]
  }
 ],
 "metadata": {
  "kernelspec": {
   "display_name": "Python 3 (ipykernel)",
   "language": "python",
   "name": "python3"
  },
  "language_info": {
   "codemirror_mode": {
    "name": "ipython",
    "version": 3
   },
   "file_extension": ".py",
   "mimetype": "text/x-python",
   "name": "python",
   "nbconvert_exporter": "python",
   "pygments_lexer": "ipython3",
   "version": "3.9.13"
  }
 },
 "nbformat": 4,
 "nbformat_minor": 5
}
